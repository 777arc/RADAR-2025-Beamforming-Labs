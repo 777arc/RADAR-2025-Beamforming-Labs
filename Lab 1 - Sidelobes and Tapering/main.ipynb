{
 "cells": [
  {
   "cell_type": "markdown",
   "id": "a596383c",
   "metadata": {},
   "source": [
    "For this one, just go to https://pysdr.org/content/doa.html#manually-changing-weights because the Jupyter note book doesnt allow interactive sliders"
   ]
  }
 ],
 "metadata": {
  "language_info": {
   "name": "python"
  }
 },
 "nbformat": 4,
 "nbformat_minor": 5
}
